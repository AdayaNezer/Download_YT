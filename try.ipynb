{
 "cells": [
  {
   "cell_type": "code",
   "execution_count": 1,
   "metadata": {},
   "outputs": [
    {
     "name": "stdout",
     "output_type": "stream",
     "text": [
      "moshe_korsia\\2023-10-07_19-01-09_UTC_profile_pic.jpg \n",
      "Retrieving posts from profile moshe_korsia.\n",
      "[  1/421] moshe_korsia\\2020-12-13_09-41-10_UTC.jpg [היום אני חוגג 29! ואני חוגג א…] moshe_korsia\\2020-12-13_09-41-10_UTC.mp4 json \n",
      "[  2/421] moshe_korsia\\2023-03-19_08-05-44_UTC.jpg [תמיד הרגשתי קצת עוף מוזר, ששל…] moshe_korsia\\2023-03-19_08-05-44_UTC.mp4 json \n",
      "[  3/421] moshe_korsia\\2022-02-20_08-11-55_UTC.jpg [לפני שנתיים גייסו אותי למילוא…] moshe_korsia\\2022-02-20_08-11-55_UTC.mp4 json \n",
      "[  4/421] moshe_korsia\\2023-11-02_10-11-18_UTC.jpg [זה עושה לי 🍑?] moshe_korsia\\2023-11-02_10-11-18_UTC.mp4 json \n",
      "[  5/421] moshe_korsia\\2023-11-01_14-29-51_UTC.jpg [חיימשלי איך הוא אומר יפה 🥹🇮🇱] moshe_korsia\\2023-11-01_14-29-51_UTC.mp4 json \n",
      "[  6/421] moshe_korsia\\2023-11-01_07-31-41_UTC.jpg [לא באמת משנה איך 🤗🇮🇱] moshe_korsia\\2023-11-01_07-31-41_UTC.mp4 json \n",
      "[  7/421] moshe_korsia\\2023-10-31_18-39-49_UTC.jpg [כל לייק - מחבל מת 😌🇮🇱 תנו שמו…] moshe_korsia\\2023-10-31_18-39-49_UTC.mp4 json \n",
      "[  8/421] moshe_korsia\\2023-10-31_09-07-46_UTC.jpg [🤌🏻 אין לחץ. נגיע לכולם] moshe_korsia\\2023-10-31_09-07-46_UTC.mp4 json \n",
      "[  9/421] moshe_korsia\\2023-10-30_13-50-34_UTC.jpg [הגיע זמן להתעורר ❤️‍🔥 אין לנו…] moshe_korsia\\2023-10-30_13-50-34_UTC.mp4 json \n",
      "[ 10/421] moshe_korsia\\2023-10-30_07-07-52_UTC.jpg [בוקר 🐒🇮🇱] moshe_korsia\\2023-10-30_07-07-52_UTC.mp4 json \n",
      "[ 11/421] moshe_korsia\\2023-10-29_15-55-49_UTC.jpg [חיזבאללה בובי 😂😂🤣] moshe_korsia\\2023-10-29_15-55-49_UTC.mp4 json \n",
      "[ 12/421] moshe_korsia\\2023-10-29_06-32-10_UTC.jpg [אסנת, קחי לתשומת ליבך❤️🇮🇱] moshe_korsia\\2023-10-29_06-32-10_UTC.mp4 json \n",
      "[ 13/421] moshe_korsia\\2023-10-26_13-17-21_UTC.jpg [תפנו אלי את הכותב שלו כי עוד …] moshe_korsia\\2023-10-26_13-17-21_UTC.mp4 json \n",
      "[ 14/421] moshe_korsia\\2023-10-26_09-32-53_UTC.jpg [אם אתם מכירים בובי שלחו לו שי…] moshe_korsia\\2023-10-26_09-32-53_UTC.mp4 json \n",
      "[ 15/421] moshe_korsia\\2023-10-25_15-20-28_UTC.jpg [ישב עליי❤️] moshe_korsia\\2023-10-25_15-20-28_UTC.mp4 json \n",
      "[ 16/421] moshe_korsia\\2023-10-25_11-21-43_UTC.jpg [בואו נדבר על זה רגע. אני מערי…] moshe_korsia\\2023-10-25_11-21-43_UTC.mp4 json \n",
      "[ 17/421] moshe_korsia\\2023-10-24_11-31-29_UTC.jpg [הקדשתי בסוף הראיון לכל האמהות…] moshe_korsia\\2023-10-24_11-31-29_UTC.mp4 json \n",
      "[ 18/421] moshe_korsia\\2023-10-23_17-27-25_UTC.jpg [שמישהו יענה להםםםםם🤣🤣🤣🤣🇮🇱] moshe_korsia\\2023-10-23_17-27-25_UTC.mp4 json \n",
      "[ 19/421] moshe_korsia\\2023-10-23_11-08-52_UTC.jpg [נו דייייי😂🤣🤣🤣🤣😂🇮🇱] moshe_korsia\\2023-10-23_11-08-52_UTC.mp4 json \n",
      "[ 20/421] moshe_korsia\\2023-10-23_06-24-41_UTC.jpg [האויב נמצא מבפנים וקוראים לו …] moshe_korsia\\2023-10-23_06-24-41_UTC.mp4 json \n",
      "[ 21/421] moshe_korsia\\2023-10-22_12-57-52_UTC.jpg [אנו שמחים לבשר 😌🇮🇱🙌🏻] moshe_korsia\\2023-10-22_12-57-52_UTC.mp4 json \n",
      "[ 22/421] moshe_korsia\\2023-10-22_08-56-38_UTC.jpg [חאיימשלי! לא חראם?😏🇮🇱] moshe_korsia\\2023-10-22_08-56-38_UTC.mp4 json \n",
      "[ 23/421] moshe_korsia\\2023-10-22_06-12-34_UTC.jpg [אתם דואגים?👀🇮🇱] moshe_korsia\\2023-10-22_06-12-34_UTC.mp4 json \n",
      "[ 24/421] moshe_korsia\\2023-10-21_19-50-57_UTC.jpg [בבונים שלי🤗 קדימה אני רוצה דג…] moshe_korsia\\2023-10-21_19-50-57_UTC.mp4 json \n",
      "[ 25/421] moshe_korsia\\2023-10-21_17-46-14_UTC.jpg [שומע חאיייםם?🇮🇱😏] moshe_korsia\\2023-10-21_17-46-14_UTC.mp4 json \n",
      "[ 26/421] moshe_korsia\\2023-10-20_07-41-52_UTC.jpg [מזל טוב חיימשלי! אבל איייךך??…] moshe_korsia\\2023-10-20_07-41-52_UTC.mp4 json \n",
      "[ 27/421] moshe_korsia\\2023-10-20_05-32-50_UTC.jpg [לתמיד 🇮🇱🙌🏻❤️] moshe_korsia\\2023-10-20_05-32-50_UTC.mp4 json \n",
      "[ 28/421] moshe_korsia\\2023-10-19_14-55-30_UTC.jpg [תחייגו! הצילו🥵] moshe_korsia\\2023-10-19_14-55-30_UTC.mp4 json \n",
      "[ 29/421] moshe_korsia\\2023-10-19_06-50-27_UTC.jpg [נשבע שהכרס הזו בגללכם! י׳תורמ…] moshe_korsia\\2023-10-19_06-50-27_UTC.mp4 json \n",
      "[ 30/421] moshe_korsia\\2023-10-18_14-33-04_UTC.jpg [קובי פרץ אני שרוף עליך😘🙌🏻 וסת…] moshe_korsia\\2023-10-18_14-33-04_UTC.mp4 json \n",
      "[ 31/421] moshe_korsia\\2023-10-18_11-40-23_UTC.jpg [אני מתחיל להתגעגע לטונה 🐟] moshe_korsia\\2023-10-18_11-40-23_UTC.mp4 json \n",
      "[ 32/421] moshe_korsia\\2023-10-18_07-39-22_UTC.jpg [אני על המטרה 😵‍💫] moshe_korsia\\2023-10-18_07-39-22_UTC.mp4 json \n",
      "[ 33/421] moshe_korsia\\2023-10-17_13-53-15_UTC.jpg [זה לא נעים לייייי מאודדד😎🇮🇱] moshe_korsia\\2023-10-17_13-53-15_UTC.mp4 json \n",
      "[ 34/421] moshe_korsia\\2023-10-17_08-28-04_UTC.jpg [רגע האמת! 🇮🇱] moshe_korsia\\2023-10-17_08-28-04_UTC.mp4 json \n",
      "[ 35/421] moshe_korsia\\2023-10-17_05-36-23_UTC.jpg [תתפללו לרפואתה ❤️🙌🏻🇮🇱] moshe_korsia\\2023-10-17_05-36-23_UTC.mp4 json \n",
      "[ 36/421] moshe_korsia\\2023-10-16_15-59-50_UTC.jpg [זה פרזנט פרוגרסיב בשבילי😌🇮🇱] moshe_korsia\\2023-10-16_15-59-50_UTC.mp4 \n",
      "Saved resume information to moshe_korsia\\iterator_YJQI-VLl.json.xz.\n"
     ]
    },
    {
     "ename": "KeyboardInterrupt",
     "evalue": "",
     "output_type": "error",
     "traceback": [
      "\u001b[1;31m---------------------------------------------------------------------------\u001b[0m",
      "\u001b[1;31mKeyboardInterrupt\u001b[0m                         Traceback (most recent call last)",
      "\u001b[1;32mc:\\Users\\User\\tr\\try.ipynb Cell 1\u001b[0m line \u001b[0;36m1\n\u001b[0;32m      <a href='vscode-notebook-cell:/c%3A/Users/User/tr/try.ipynb#W1sZmlsZQ%3D%3D?line=8'>9</a>\u001b[0m \u001b[39m# Create a directory to save the downloaded images\u001b[39;00m\n\u001b[0;32m     <a href='vscode-notebook-cell:/c%3A/Users/User/tr/try.ipynb#W1sZmlsZQ%3D%3D?line=9'>10</a>\u001b[0m directory \u001b[39m=\u001b[39m profile\u001b[39m.\u001b[39musername\n\u001b[1;32m---> <a href='vscode-notebook-cell:/c%3A/Users/User/tr/try.ipynb#W1sZmlsZQ%3D%3D?line=10'>11</a>\u001b[0m loader\u001b[39m.\u001b[39;49mdownload_profile(profile, profile_pic_only\u001b[39m=\u001b[39;49m\u001b[39mFalse\u001b[39;49;00m)\n\u001b[0;32m     <a href='vscode-notebook-cell:/c%3A/Users/User/tr/try.ipynb#W1sZmlsZQ%3D%3D?line=12'>13</a>\u001b[0m \u001b[39m# Iterate through the posts and download images\u001b[39;00m\n\u001b[0;32m     <a href='vscode-notebook-cell:/c%3A/Users/User/tr/try.ipynb#W1sZmlsZQ%3D%3D?line=13'>14</a>\u001b[0m \u001b[39mfor\u001b[39;00m post \u001b[39min\u001b[39;00m profile\u001b[39m.\u001b[39mget_posts():\n",
      "File \u001b[1;32mc:\\Users\\User\\AppData\\Local\\Programs\\Python\\Python311\\Lib\\site-packages\\instaloader\\instaloader.py:1573\u001b[0m, in \u001b[0;36mInstaloader.download_profile\u001b[1;34m(self, profile_name, profile_pic, profile_pic_only, fast_update, download_stories, download_stories_only, download_tagged, download_tagged_only, post_filter, storyitem_filter)\u001b[0m\n\u001b[0;32m   1571\u001b[0m \u001b[39m# Iterate over pictures and download them\u001b[39;00m\n\u001b[0;32m   1572\u001b[0m \u001b[39mself\u001b[39m\u001b[39m.\u001b[39mcontext\u001b[39m.\u001b[39mlog(\u001b[39m\"\u001b[39m\u001b[39mRetrieving posts from profile \u001b[39m\u001b[39m{}\u001b[39;00m\u001b[39m.\u001b[39m\u001b[39m\"\u001b[39m\u001b[39m.\u001b[39mformat(profile_name))\n\u001b[1;32m-> 1573\u001b[0m \u001b[39mself\u001b[39;49m\u001b[39m.\u001b[39;49mposts_download_loop(profile\u001b[39m.\u001b[39;49mget_posts(), profile_name, fast_update, post_filter,\n\u001b[0;32m   1574\u001b[0m                          total_count\u001b[39m=\u001b[39;49mprofile\u001b[39m.\u001b[39;49mmediacount, owner_profile\u001b[39m=\u001b[39;49mprofile)\n",
      "File \u001b[1;32mc:\\Users\\User\\AppData\\Local\\Programs\\Python\\Python311\\Lib\\site-packages\\instaloader\\instaloader.py:1064\u001b[0m, in \u001b[0;36mInstaloader.posts_download_loop\u001b[1;34m(self, posts, target, fast_update, post_filter, max_count, total_count, owner_profile, takewhile)\u001b[0m\n\u001b[0;32m   1062\u001b[0m \u001b[39mwhile\u001b[39;00m \u001b[39mTrue\u001b[39;00m:\n\u001b[0;32m   1063\u001b[0m     \u001b[39mtry\u001b[39;00m:\n\u001b[1;32m-> 1064\u001b[0m         downloaded \u001b[39m=\u001b[39m \u001b[39mself\u001b[39;49m\u001b[39m.\u001b[39;49mdownload_post(post, target\u001b[39m=\u001b[39;49mtarget)\n\u001b[0;32m   1065\u001b[0m         \u001b[39mbreak\u001b[39;00m\n\u001b[0;32m   1066\u001b[0m     \u001b[39mexcept\u001b[39;00m PostChangedException:\n",
      "File \u001b[1;32mc:\\Users\\User\\AppData\\Local\\Programs\\Python\\Python311\\Lib\\site-packages\\instaloader\\instaloader.py:773\u001b[0m, in \u001b[0;36mInstaloader.download_post\u001b[1;34m(self, post, target)\u001b[0m\n\u001b[0;32m    770\u001b[0m \u001b[39m# Download video if desired\u001b[39;00m\n\u001b[0;32m    771\u001b[0m \u001b[39mif\u001b[39;00m post\u001b[39m.\u001b[39mis_video \u001b[39mand\u001b[39;00m \u001b[39mself\u001b[39m\u001b[39m.\u001b[39mdownload_videos:\n\u001b[0;32m    772\u001b[0m     downloaded \u001b[39m&\u001b[39m\u001b[39m=\u001b[39m (\u001b[39mnot\u001b[39;00m _already_downloaded(filename \u001b[39m+\u001b[39m \u001b[39m\"\u001b[39m\u001b[39m.mp4\u001b[39m\u001b[39m\"\u001b[39m) \u001b[39mand\u001b[39;00m\n\u001b[1;32m--> 773\u001b[0m                    \u001b[39mself\u001b[39;49m\u001b[39m.\u001b[39;49mdownload_pic(filename\u001b[39m=\u001b[39;49mfilename, url\u001b[39m=\u001b[39;49mpost\u001b[39m.\u001b[39;49mvideo_url, mtime\u001b[39m=\u001b[39;49mpost\u001b[39m.\u001b[39;49mdate_local))\n\u001b[0;32m    775\u001b[0m \u001b[39m# Download geotags if desired\u001b[39;00m\n\u001b[0;32m    776\u001b[0m \u001b[39mif\u001b[39;00m \u001b[39mself\u001b[39m\u001b[39m.\u001b[39mdownload_geotags \u001b[39mand\u001b[39;00m post\u001b[39m.\u001b[39mlocation:\n",
      "File \u001b[1;32mc:\\Users\\User\\AppData\\Local\\Programs\\Python\\Python311\\Lib\\site-packages\\instaloader\\instaloader.py:97\u001b[0m, in \u001b[0;36m_retry_on_connection_error.<locals>.call\u001b[1;34m(instaloader, *args, **kwargs)\u001b[0m\n\u001b[0;32m     94\u001b[0m \u001b[39m@wraps\u001b[39m(func)\n\u001b[0;32m     95\u001b[0m \u001b[39mdef\u001b[39;00m \u001b[39mcall\u001b[39m(instaloader, \u001b[39m*\u001b[39margs, \u001b[39m*\u001b[39m\u001b[39m*\u001b[39mkwargs):\n\u001b[0;32m     96\u001b[0m     \u001b[39mtry\u001b[39;00m:\n\u001b[1;32m---> 97\u001b[0m         \u001b[39mreturn\u001b[39;00m func(instaloader, \u001b[39m*\u001b[39;49margs, \u001b[39m*\u001b[39;49m\u001b[39m*\u001b[39;49mkwargs)\n\u001b[0;32m     98\u001b[0m     \u001b[39mexcept\u001b[39;00m (urllib3\u001b[39m.\u001b[39mexceptions\u001b[39m.\u001b[39mHTTPError, requests\u001b[39m.\u001b[39mexceptions\u001b[39m.\u001b[39mRequestException, ConnectionException) \u001b[39mas\u001b[39;00m err:\n\u001b[0;32m     99\u001b[0m         error_string \u001b[39m=\u001b[39m \u001b[39m\"\u001b[39m\u001b[39m{}\u001b[39;00m\u001b[39m(\u001b[39m\u001b[39m{}\u001b[39;00m\u001b[39m): \u001b[39m\u001b[39m{}\u001b[39;00m\u001b[39m\"\u001b[39m\u001b[39m.\u001b[39mformat(func\u001b[39m.\u001b[39m\u001b[39m__name__\u001b[39m, \u001b[39m'\u001b[39m\u001b[39m, \u001b[39m\u001b[39m'\u001b[39m\u001b[39m.\u001b[39mjoin([\u001b[39mrepr\u001b[39m(arg) \u001b[39mfor\u001b[39;00m arg \u001b[39min\u001b[39;00m args]), err)\n",
      "File \u001b[1;32mc:\\Users\\User\\AppData\\Local\\Programs\\Python\\Python311\\Lib\\site-packages\\instaloader\\instaloader.py:356\u001b[0m, in \u001b[0;36mInstaloader.download_pic\u001b[1;34m(self, filename, url, mtime, filename_suffix, _attempt)\u001b[0m\n\u001b[0;32m    354\u001b[0m     \u001b[39mself\u001b[39m\u001b[39m.\u001b[39mcontext\u001b[39m.\u001b[39mlog(filename \u001b[39m+\u001b[39m \u001b[39m'\u001b[39m\u001b[39m exists\u001b[39m\u001b[39m'\u001b[39m, end\u001b[39m=\u001b[39m\u001b[39m'\u001b[39m\u001b[39m \u001b[39m\u001b[39m'\u001b[39m, flush\u001b[39m=\u001b[39m\u001b[39mTrue\u001b[39;00m)\n\u001b[0;32m    355\u001b[0m     \u001b[39mreturn\u001b[39;00m \u001b[39mFalse\u001b[39;00m\n\u001b[1;32m--> 356\u001b[0m \u001b[39mself\u001b[39;49m\u001b[39m.\u001b[39;49mcontext\u001b[39m.\u001b[39;49mwrite_raw(resp, filename)\n\u001b[0;32m    357\u001b[0m os\u001b[39m.\u001b[39mutime(filename, (datetime\u001b[39m.\u001b[39mnow()\u001b[39m.\u001b[39mtimestamp(), mtime\u001b[39m.\u001b[39mtimestamp()))\n\u001b[0;32m    358\u001b[0m \u001b[39mreturn\u001b[39;00m \u001b[39mTrue\u001b[39;00m\n",
      "File \u001b[1;32mc:\\Users\\User\\AppData\\Local\\Programs\\Python\\Python311\\Lib\\site-packages\\instaloader\\instaloadercontext.py:591\u001b[0m, in \u001b[0;36mInstaloaderContext.write_raw\u001b[1;34m(self, resp, filename)\u001b[0m\n\u001b[0;32m    589\u001b[0m \u001b[39mwith\u001b[39;00m \u001b[39mopen\u001b[39m(filename \u001b[39m+\u001b[39m \u001b[39m'\u001b[39m\u001b[39m.temp\u001b[39m\u001b[39m'\u001b[39m, \u001b[39m'\u001b[39m\u001b[39mwb\u001b[39m\u001b[39m'\u001b[39m) \u001b[39mas\u001b[39;00m file:\n\u001b[0;32m    590\u001b[0m     \u001b[39mif\u001b[39;00m \u001b[39misinstance\u001b[39m(resp, requests\u001b[39m.\u001b[39mResponse):\n\u001b[1;32m--> 591\u001b[0m         shutil\u001b[39m.\u001b[39;49mcopyfileobj(resp\u001b[39m.\u001b[39;49mraw, file)\n\u001b[0;32m    592\u001b[0m     \u001b[39melse\u001b[39;00m:\n\u001b[0;32m    593\u001b[0m         file\u001b[39m.\u001b[39mwrite(resp)\n",
      "File \u001b[1;32mc:\\Users\\User\\AppData\\Local\\Programs\\Python\\Python311\\Lib\\shutil.py:197\u001b[0m, in \u001b[0;36mcopyfileobj\u001b[1;34m(fsrc, fdst, length)\u001b[0m\n\u001b[0;32m    195\u001b[0m fdst_write \u001b[39m=\u001b[39m fdst\u001b[39m.\u001b[39mwrite\n\u001b[0;32m    196\u001b[0m \u001b[39mwhile\u001b[39;00m \u001b[39mTrue\u001b[39;00m:\n\u001b[1;32m--> 197\u001b[0m     buf \u001b[39m=\u001b[39m fsrc_read(length)\n\u001b[0;32m    198\u001b[0m     \u001b[39mif\u001b[39;00m \u001b[39mnot\u001b[39;00m buf:\n\u001b[0;32m    199\u001b[0m         \u001b[39mbreak\u001b[39;00m\n",
      "File \u001b[1;32mc:\\Users\\User\\AppData\\Local\\Programs\\Python\\Python311\\Lib\\site-packages\\urllib3\\response.py:567\u001b[0m, in \u001b[0;36mHTTPResponse.read\u001b[1;34m(self, amt, decode_content, cache_content)\u001b[0m\n\u001b[0;32m    564\u001b[0m fp_closed \u001b[39m=\u001b[39m \u001b[39mgetattr\u001b[39m(\u001b[39mself\u001b[39m\u001b[39m.\u001b[39m_fp, \u001b[39m\"\u001b[39m\u001b[39mclosed\u001b[39m\u001b[39m\"\u001b[39m, \u001b[39mFalse\u001b[39;00m)\n\u001b[0;32m    566\u001b[0m \u001b[39mwith\u001b[39;00m \u001b[39mself\u001b[39m\u001b[39m.\u001b[39m_error_catcher():\n\u001b[1;32m--> 567\u001b[0m     data \u001b[39m=\u001b[39m \u001b[39mself\u001b[39;49m\u001b[39m.\u001b[39;49m_fp_read(amt) \u001b[39mif\u001b[39;00m \u001b[39mnot\u001b[39;00m fp_closed \u001b[39melse\u001b[39;00m \u001b[39mb\u001b[39m\u001b[39m\"\u001b[39m\u001b[39m\"\u001b[39m\n\u001b[0;32m    568\u001b[0m     \u001b[39mif\u001b[39;00m amt \u001b[39mis\u001b[39;00m \u001b[39mNone\u001b[39;00m:\n\u001b[0;32m    569\u001b[0m         flush_decoder \u001b[39m=\u001b[39m \u001b[39mTrue\u001b[39;00m\n",
      "File \u001b[1;32mc:\\Users\\User\\AppData\\Local\\Programs\\Python\\Python311\\Lib\\site-packages\\urllib3\\response.py:533\u001b[0m, in \u001b[0;36mHTTPResponse._fp_read\u001b[1;34m(self, amt)\u001b[0m\n\u001b[0;32m    530\u001b[0m     \u001b[39mreturn\u001b[39;00m buffer\u001b[39m.\u001b[39mgetvalue()\n\u001b[0;32m    531\u001b[0m \u001b[39melse\u001b[39;00m:\n\u001b[0;32m    532\u001b[0m     \u001b[39m# StringIO doesn't like amt=None\u001b[39;00m\n\u001b[1;32m--> 533\u001b[0m     \u001b[39mreturn\u001b[39;00m \u001b[39mself\u001b[39;49m\u001b[39m.\u001b[39;49m_fp\u001b[39m.\u001b[39;49mread(amt) \u001b[39mif\u001b[39;00m amt \u001b[39mis\u001b[39;00m \u001b[39mnot\u001b[39;00m \u001b[39mNone\u001b[39;00m \u001b[39melse\u001b[39;00m \u001b[39mself\u001b[39m\u001b[39m.\u001b[39m_fp\u001b[39m.\u001b[39mread()\n",
      "File \u001b[1;32mc:\\Users\\User\\AppData\\Local\\Programs\\Python\\Python311\\Lib\\http\\client.py:465\u001b[0m, in \u001b[0;36mHTTPResponse.read\u001b[1;34m(self, amt)\u001b[0m\n\u001b[0;32m    462\u001b[0m \u001b[39mif\u001b[39;00m \u001b[39mself\u001b[39m\u001b[39m.\u001b[39mlength \u001b[39mis\u001b[39;00m \u001b[39mnot\u001b[39;00m \u001b[39mNone\u001b[39;00m \u001b[39mand\u001b[39;00m amt \u001b[39m>\u001b[39m \u001b[39mself\u001b[39m\u001b[39m.\u001b[39mlength:\n\u001b[0;32m    463\u001b[0m     \u001b[39m# clip the read to the \"end of response\"\u001b[39;00m\n\u001b[0;32m    464\u001b[0m     amt \u001b[39m=\u001b[39m \u001b[39mself\u001b[39m\u001b[39m.\u001b[39mlength\n\u001b[1;32m--> 465\u001b[0m s \u001b[39m=\u001b[39m \u001b[39mself\u001b[39m\u001b[39m.\u001b[39mfp\u001b[39m.\u001b[39mread(amt)\n\u001b[0;32m    466\u001b[0m \u001b[39mif\u001b[39;00m \u001b[39mnot\u001b[39;00m s \u001b[39mand\u001b[39;00m amt:\n\u001b[0;32m    467\u001b[0m     \u001b[39m# Ideally, we would raise IncompleteRead if the content-length\u001b[39;00m\n\u001b[0;32m    468\u001b[0m     \u001b[39m# wasn't satisfied, but it might break compatibility.\u001b[39;00m\n\u001b[0;32m    469\u001b[0m     \u001b[39mself\u001b[39m\u001b[39m.\u001b[39m_close_conn()\n",
      "File \u001b[1;32mc:\\Users\\User\\AppData\\Local\\Programs\\Python\\Python311\\Lib\\socket.py:706\u001b[0m, in \u001b[0;36mSocketIO.readinto\u001b[1;34m(self, b)\u001b[0m\n\u001b[0;32m    704\u001b[0m \u001b[39mwhile\u001b[39;00m \u001b[39mTrue\u001b[39;00m:\n\u001b[0;32m    705\u001b[0m     \u001b[39mtry\u001b[39;00m:\n\u001b[1;32m--> 706\u001b[0m         \u001b[39mreturn\u001b[39;00m \u001b[39mself\u001b[39;49m\u001b[39m.\u001b[39;49m_sock\u001b[39m.\u001b[39;49mrecv_into(b)\n\u001b[0;32m    707\u001b[0m     \u001b[39mexcept\u001b[39;00m timeout:\n\u001b[0;32m    708\u001b[0m         \u001b[39mself\u001b[39m\u001b[39m.\u001b[39m_timeout_occurred \u001b[39m=\u001b[39m \u001b[39mTrue\u001b[39;00m\n",
      "File \u001b[1;32mc:\\Users\\User\\AppData\\Local\\Programs\\Python\\Python311\\Lib\\ssl.py:1278\u001b[0m, in \u001b[0;36mSSLSocket.recv_into\u001b[1;34m(self, buffer, nbytes, flags)\u001b[0m\n\u001b[0;32m   1274\u001b[0m     \u001b[39mif\u001b[39;00m flags \u001b[39m!=\u001b[39m \u001b[39m0\u001b[39m:\n\u001b[0;32m   1275\u001b[0m         \u001b[39mraise\u001b[39;00m \u001b[39mValueError\u001b[39;00m(\n\u001b[0;32m   1276\u001b[0m           \u001b[39m\"\u001b[39m\u001b[39mnon-zero flags not allowed in calls to recv_into() on \u001b[39m\u001b[39m%s\u001b[39;00m\u001b[39m\"\u001b[39m \u001b[39m%\u001b[39m\n\u001b[0;32m   1277\u001b[0m           \u001b[39mself\u001b[39m\u001b[39m.\u001b[39m\u001b[39m__class__\u001b[39m)\n\u001b[1;32m-> 1278\u001b[0m     \u001b[39mreturn\u001b[39;00m \u001b[39mself\u001b[39;49m\u001b[39m.\u001b[39;49mread(nbytes, buffer)\n\u001b[0;32m   1279\u001b[0m \u001b[39melse\u001b[39;00m:\n\u001b[0;32m   1280\u001b[0m     \u001b[39mreturn\u001b[39;00m \u001b[39msuper\u001b[39m()\u001b[39m.\u001b[39mrecv_into(buffer, nbytes, flags)\n",
      "File \u001b[1;32mc:\\Users\\User\\AppData\\Local\\Programs\\Python\\Python311\\Lib\\ssl.py:1134\u001b[0m, in \u001b[0;36mSSLSocket.read\u001b[1;34m(self, len, buffer)\u001b[0m\n\u001b[0;32m   1132\u001b[0m \u001b[39mtry\u001b[39;00m:\n\u001b[0;32m   1133\u001b[0m     \u001b[39mif\u001b[39;00m buffer \u001b[39mis\u001b[39;00m \u001b[39mnot\u001b[39;00m \u001b[39mNone\u001b[39;00m:\n\u001b[1;32m-> 1134\u001b[0m         \u001b[39mreturn\u001b[39;00m \u001b[39mself\u001b[39;49m\u001b[39m.\u001b[39;49m_sslobj\u001b[39m.\u001b[39;49mread(\u001b[39mlen\u001b[39;49m, buffer)\n\u001b[0;32m   1135\u001b[0m     \u001b[39melse\u001b[39;00m:\n\u001b[0;32m   1136\u001b[0m         \u001b[39mreturn\u001b[39;00m \u001b[39mself\u001b[39m\u001b[39m.\u001b[39m_sslobj\u001b[39m.\u001b[39mread(\u001b[39mlen\u001b[39m)\n",
      "\u001b[1;31mKeyboardInterrupt\u001b[0m: "
     ]
    }
   ],
   "source": [
    "\n"
   ]
  },
  {
   "cell_type": "code",
   "execution_count": null,
   "metadata": {},
   "outputs": [],
   "source": []
  }
 ],
 "metadata": {
  "kernelspec": {
   "display_name": "Python 3",
   "language": "python",
   "name": "python3"
  },
  "language_info": {
   "codemirror_mode": {
    "name": "ipython",
    "version": 3
   },
   "file_extension": ".py",
   "mimetype": "text/x-python",
   "name": "python",
   "nbconvert_exporter": "python",
   "pygments_lexer": "ipython3",
   "version": "3.11.1"
  },
  "orig_nbformat": 4
 },
 "nbformat": 4,
 "nbformat_minor": 2
}
